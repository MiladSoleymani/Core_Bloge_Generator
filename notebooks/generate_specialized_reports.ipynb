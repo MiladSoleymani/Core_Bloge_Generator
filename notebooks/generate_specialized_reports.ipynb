{
  "nbformat": 4,
  "nbformat_minor": 0,
  "metadata": {
    "colab": {
      "provenance": []
    },
    "kernelspec": {
      "name": "python3",
      "display_name": "Python 3"
    },
    "language_info": {
      "name": "python"
    },
    "widgets": {
      "application/vnd.jupyter.widget-state+json": {
        "0ee36fc303cb46bdb60a252850695108": {
          "model_module": "@jupyter-widgets/controls",
          "model_name": "HBoxModel",
          "model_module_version": "1.5.0",
          "state": {
            "_dom_classes": [],
            "_model_module": "@jupyter-widgets/controls",
            "_model_module_version": "1.5.0",
            "_model_name": "HBoxModel",
            "_view_count": null,
            "_view_module": "@jupyter-widgets/controls",
            "_view_module_version": "1.5.0",
            "_view_name": "HBoxView",
            "box_style": "",
            "children": [
              "IPY_MODEL_64b7b17042314cc9b0a3a71214d7d111",
              "IPY_MODEL_9b130f3aa6f84997869856e6f2b98f90",
              "IPY_MODEL_4043622fa3044369b24b696d85cfa3d9"
            ],
            "layout": "IPY_MODEL_ba00d7e14322468f84d1ba6ffa8caabb"
          }
        },
        "64b7b17042314cc9b0a3a71214d7d111": {
          "model_module": "@jupyter-widgets/controls",
          "model_name": "HTMLModel",
          "model_module_version": "1.5.0",
          "state": {
            "_dom_classes": [],
            "_model_module": "@jupyter-widgets/controls",
            "_model_module_version": "1.5.0",
            "_model_name": "HTMLModel",
            "_view_count": null,
            "_view_module": "@jupyter-widgets/controls",
            "_view_module_version": "1.5.0",
            "_view_name": "HTMLView",
            "description": "",
            "description_tooltip": null,
            "layout": "IPY_MODEL_f5df3c36c8ee457980e4f4abbe3baa58",
            "placeholder": "​",
            "style": "IPY_MODEL_7a55386a31cd40c29ac9503e3d610e29",
            "value": "100%"
          }
        },
        "9b130f3aa6f84997869856e6f2b98f90": {
          "model_module": "@jupyter-widgets/controls",
          "model_name": "FloatProgressModel",
          "model_module_version": "1.5.0",
          "state": {
            "_dom_classes": [],
            "_model_module": "@jupyter-widgets/controls",
            "_model_module_version": "1.5.0",
            "_model_name": "FloatProgressModel",
            "_view_count": null,
            "_view_module": "@jupyter-widgets/controls",
            "_view_module_version": "1.5.0",
            "_view_name": "ProgressView",
            "bar_style": "success",
            "description": "",
            "description_tooltip": null,
            "layout": "IPY_MODEL_b5753989ed9d4be2a25f188e74316385",
            "max": 4,
            "min": 0,
            "orientation": "horizontal",
            "style": "IPY_MODEL_dcd44d6b3b4045caadffc3a44ad1822e",
            "value": 4
          }
        },
        "4043622fa3044369b24b696d85cfa3d9": {
          "model_module": "@jupyter-widgets/controls",
          "model_name": "HTMLModel",
          "model_module_version": "1.5.0",
          "state": {
            "_dom_classes": [],
            "_model_module": "@jupyter-widgets/controls",
            "_model_module_version": "1.5.0",
            "_model_name": "HTMLModel",
            "_view_count": null,
            "_view_module": "@jupyter-widgets/controls",
            "_view_module_version": "1.5.0",
            "_view_name": "HTMLView",
            "description": "",
            "description_tooltip": null,
            "layout": "IPY_MODEL_01825d68616e4641aff12e4134fdf961",
            "placeholder": "​",
            "style": "IPY_MODEL_a243fe8b1933479e85cd495b372a288a",
            "value": " 4/4 [01:28&lt;00:00, 21.95s/it]"
          }
        },
        "ba00d7e14322468f84d1ba6ffa8caabb": {
          "model_module": "@jupyter-widgets/base",
          "model_name": "LayoutModel",
          "model_module_version": "1.2.0",
          "state": {
            "_model_module": "@jupyter-widgets/base",
            "_model_module_version": "1.2.0",
            "_model_name": "LayoutModel",
            "_view_count": null,
            "_view_module": "@jupyter-widgets/base",
            "_view_module_version": "1.2.0",
            "_view_name": "LayoutView",
            "align_content": null,
            "align_items": null,
            "align_self": null,
            "border": null,
            "bottom": null,
            "display": null,
            "flex": null,
            "flex_flow": null,
            "grid_area": null,
            "grid_auto_columns": null,
            "grid_auto_flow": null,
            "grid_auto_rows": null,
            "grid_column": null,
            "grid_gap": null,
            "grid_row": null,
            "grid_template_areas": null,
            "grid_template_columns": null,
            "grid_template_rows": null,
            "height": null,
            "justify_content": null,
            "justify_items": null,
            "left": null,
            "margin": null,
            "max_height": null,
            "max_width": null,
            "min_height": null,
            "min_width": null,
            "object_fit": null,
            "object_position": null,
            "order": null,
            "overflow": null,
            "overflow_x": null,
            "overflow_y": null,
            "padding": null,
            "right": null,
            "top": null,
            "visibility": null,
            "width": null
          }
        },
        "f5df3c36c8ee457980e4f4abbe3baa58": {
          "model_module": "@jupyter-widgets/base",
          "model_name": "LayoutModel",
          "model_module_version": "1.2.0",
          "state": {
            "_model_module": "@jupyter-widgets/base",
            "_model_module_version": "1.2.0",
            "_model_name": "LayoutModel",
            "_view_count": null,
            "_view_module": "@jupyter-widgets/base",
            "_view_module_version": "1.2.0",
            "_view_name": "LayoutView",
            "align_content": null,
            "align_items": null,
            "align_self": null,
            "border": null,
            "bottom": null,
            "display": null,
            "flex": null,
            "flex_flow": null,
            "grid_area": null,
            "grid_auto_columns": null,
            "grid_auto_flow": null,
            "grid_auto_rows": null,
            "grid_column": null,
            "grid_gap": null,
            "grid_row": null,
            "grid_template_areas": null,
            "grid_template_columns": null,
            "grid_template_rows": null,
            "height": null,
            "justify_content": null,
            "justify_items": null,
            "left": null,
            "margin": null,
            "max_height": null,
            "max_width": null,
            "min_height": null,
            "min_width": null,
            "object_fit": null,
            "object_position": null,
            "order": null,
            "overflow": null,
            "overflow_x": null,
            "overflow_y": null,
            "padding": null,
            "right": null,
            "top": null,
            "visibility": null,
            "width": null
          }
        },
        "7a55386a31cd40c29ac9503e3d610e29": {
          "model_module": "@jupyter-widgets/controls",
          "model_name": "DescriptionStyleModel",
          "model_module_version": "1.5.0",
          "state": {
            "_model_module": "@jupyter-widgets/controls",
            "_model_module_version": "1.5.0",
            "_model_name": "DescriptionStyleModel",
            "_view_count": null,
            "_view_module": "@jupyter-widgets/base",
            "_view_module_version": "1.2.0",
            "_view_name": "StyleView",
            "description_width": ""
          }
        },
        "b5753989ed9d4be2a25f188e74316385": {
          "model_module": "@jupyter-widgets/base",
          "model_name": "LayoutModel",
          "model_module_version": "1.2.0",
          "state": {
            "_model_module": "@jupyter-widgets/base",
            "_model_module_version": "1.2.0",
            "_model_name": "LayoutModel",
            "_view_count": null,
            "_view_module": "@jupyter-widgets/base",
            "_view_module_version": "1.2.0",
            "_view_name": "LayoutView",
            "align_content": null,
            "align_items": null,
            "align_self": null,
            "border": null,
            "bottom": null,
            "display": null,
            "flex": null,
            "flex_flow": null,
            "grid_area": null,
            "grid_auto_columns": null,
            "grid_auto_flow": null,
            "grid_auto_rows": null,
            "grid_column": null,
            "grid_gap": null,
            "grid_row": null,
            "grid_template_areas": null,
            "grid_template_columns": null,
            "grid_template_rows": null,
            "height": null,
            "justify_content": null,
            "justify_items": null,
            "left": null,
            "margin": null,
            "max_height": null,
            "max_width": null,
            "min_height": null,
            "min_width": null,
            "object_fit": null,
            "object_position": null,
            "order": null,
            "overflow": null,
            "overflow_x": null,
            "overflow_y": null,
            "padding": null,
            "right": null,
            "top": null,
            "visibility": null,
            "width": null
          }
        },
        "dcd44d6b3b4045caadffc3a44ad1822e": {
          "model_module": "@jupyter-widgets/controls",
          "model_name": "ProgressStyleModel",
          "model_module_version": "1.5.0",
          "state": {
            "_model_module": "@jupyter-widgets/controls",
            "_model_module_version": "1.5.0",
            "_model_name": "ProgressStyleModel",
            "_view_count": null,
            "_view_module": "@jupyter-widgets/base",
            "_view_module_version": "1.2.0",
            "_view_name": "StyleView",
            "bar_color": null,
            "description_width": ""
          }
        },
        "01825d68616e4641aff12e4134fdf961": {
          "model_module": "@jupyter-widgets/base",
          "model_name": "LayoutModel",
          "model_module_version": "1.2.0",
          "state": {
            "_model_module": "@jupyter-widgets/base",
            "_model_module_version": "1.2.0",
            "_model_name": "LayoutModel",
            "_view_count": null,
            "_view_module": "@jupyter-widgets/base",
            "_view_module_version": "1.2.0",
            "_view_name": "LayoutView",
            "align_content": null,
            "align_items": null,
            "align_self": null,
            "border": null,
            "bottom": null,
            "display": null,
            "flex": null,
            "flex_flow": null,
            "grid_area": null,
            "grid_auto_columns": null,
            "grid_auto_flow": null,
            "grid_auto_rows": null,
            "grid_column": null,
            "grid_gap": null,
            "grid_row": null,
            "grid_template_areas": null,
            "grid_template_columns": null,
            "grid_template_rows": null,
            "height": null,
            "justify_content": null,
            "justify_items": null,
            "left": null,
            "margin": null,
            "max_height": null,
            "max_width": null,
            "min_height": null,
            "min_width": null,
            "object_fit": null,
            "object_position": null,
            "order": null,
            "overflow": null,
            "overflow_x": null,
            "overflow_y": null,
            "padding": null,
            "right": null,
            "top": null,
            "visibility": null,
            "width": null
          }
        },
        "a243fe8b1933479e85cd495b372a288a": {
          "model_module": "@jupyter-widgets/controls",
          "model_name": "DescriptionStyleModel",
          "model_module_version": "1.5.0",
          "state": {
            "_model_module": "@jupyter-widgets/controls",
            "_model_module_version": "1.5.0",
            "_model_name": "DescriptionStyleModel",
            "_view_count": null,
            "_view_module": "@jupyter-widgets/base",
            "_view_module_version": "1.2.0",
            "_view_name": "StyleView",
            "description_width": ""
          }
        },
        "acb3baea63044652a77d47d9f8308686": {
          "model_module": "@jupyter-widgets/controls",
          "model_name": "HBoxModel",
          "model_module_version": "1.5.0",
          "state": {
            "_dom_classes": [],
            "_model_module": "@jupyter-widgets/controls",
            "_model_module_version": "1.5.0",
            "_model_name": "HBoxModel",
            "_view_count": null,
            "_view_module": "@jupyter-widgets/controls",
            "_view_module_version": "1.5.0",
            "_view_name": "HBoxView",
            "box_style": "",
            "children": [
              "IPY_MODEL_1eed85b6fea54cc780c57b581cbd77c1",
              "IPY_MODEL_2783a30cec9845c6afbaea9376312e1d",
              "IPY_MODEL_d09c2f0580834beb8d016c6386c0bdc5"
            ],
            "layout": "IPY_MODEL_f653ff9267ef4f36946f9fd14318cb1c"
          }
        },
        "1eed85b6fea54cc780c57b581cbd77c1": {
          "model_module": "@jupyter-widgets/controls",
          "model_name": "HTMLModel",
          "model_module_version": "1.5.0",
          "state": {
            "_dom_classes": [],
            "_model_module": "@jupyter-widgets/controls",
            "_model_module_version": "1.5.0",
            "_model_name": "HTMLModel",
            "_view_count": null,
            "_view_module": "@jupyter-widgets/controls",
            "_view_module_version": "1.5.0",
            "_view_name": "HTMLView",
            "description": "",
            "description_tooltip": null,
            "layout": "IPY_MODEL_0e3c64030071446a84b3ce8763b32963",
            "placeholder": "​",
            "style": "IPY_MODEL_4b29ed954d3a43e7875a670ac0290d5b",
            "value": "100%"
          }
        },
        "2783a30cec9845c6afbaea9376312e1d": {
          "model_module": "@jupyter-widgets/controls",
          "model_name": "FloatProgressModel",
          "model_module_version": "1.5.0",
          "state": {
            "_dom_classes": [],
            "_model_module": "@jupyter-widgets/controls",
            "_model_module_version": "1.5.0",
            "_model_name": "FloatProgressModel",
            "_view_count": null,
            "_view_module": "@jupyter-widgets/controls",
            "_view_module_version": "1.5.0",
            "_view_name": "ProgressView",
            "bar_style": "success",
            "description": "",
            "description_tooltip": null,
            "layout": "IPY_MODEL_1284de410c424c66a17d2a826436bbb8",
            "max": 4,
            "min": 0,
            "orientation": "horizontal",
            "style": "IPY_MODEL_48101653a61341c4a5461f1d430039ce",
            "value": 4
          }
        },
        "d09c2f0580834beb8d016c6386c0bdc5": {
          "model_module": "@jupyter-widgets/controls",
          "model_name": "HTMLModel",
          "model_module_version": "1.5.0",
          "state": {
            "_dom_classes": [],
            "_model_module": "@jupyter-widgets/controls",
            "_model_module_version": "1.5.0",
            "_model_name": "HTMLModel",
            "_view_count": null,
            "_view_module": "@jupyter-widgets/controls",
            "_view_module_version": "1.5.0",
            "_view_name": "HTMLView",
            "description": "",
            "description_tooltip": null,
            "layout": "IPY_MODEL_1efa42470c2545f1b4943ad909d79f9c",
            "placeholder": "​",
            "style": "IPY_MODEL_d9ef931bfcd54ab29857aadcdf7742f8",
            "value": " 4/4 [01:29&lt;00:00, 21.93s/it]"
          }
        },
        "f653ff9267ef4f36946f9fd14318cb1c": {
          "model_module": "@jupyter-widgets/base",
          "model_name": "LayoutModel",
          "model_module_version": "1.2.0",
          "state": {
            "_model_module": "@jupyter-widgets/base",
            "_model_module_version": "1.2.0",
            "_model_name": "LayoutModel",
            "_view_count": null,
            "_view_module": "@jupyter-widgets/base",
            "_view_module_version": "1.2.0",
            "_view_name": "LayoutView",
            "align_content": null,
            "align_items": null,
            "align_self": null,
            "border": null,
            "bottom": null,
            "display": null,
            "flex": null,
            "flex_flow": null,
            "grid_area": null,
            "grid_auto_columns": null,
            "grid_auto_flow": null,
            "grid_auto_rows": null,
            "grid_column": null,
            "grid_gap": null,
            "grid_row": null,
            "grid_template_areas": null,
            "grid_template_columns": null,
            "grid_template_rows": null,
            "height": null,
            "justify_content": null,
            "justify_items": null,
            "left": null,
            "margin": null,
            "max_height": null,
            "max_width": null,
            "min_height": null,
            "min_width": null,
            "object_fit": null,
            "object_position": null,
            "order": null,
            "overflow": null,
            "overflow_x": null,
            "overflow_y": null,
            "padding": null,
            "right": null,
            "top": null,
            "visibility": null,
            "width": null
          }
        },
        "0e3c64030071446a84b3ce8763b32963": {
          "model_module": "@jupyter-widgets/base",
          "model_name": "LayoutModel",
          "model_module_version": "1.2.0",
          "state": {
            "_model_module": "@jupyter-widgets/base",
            "_model_module_version": "1.2.0",
            "_model_name": "LayoutModel",
            "_view_count": null,
            "_view_module": "@jupyter-widgets/base",
            "_view_module_version": "1.2.0",
            "_view_name": "LayoutView",
            "align_content": null,
            "align_items": null,
            "align_self": null,
            "border": null,
            "bottom": null,
            "display": null,
            "flex": null,
            "flex_flow": null,
            "grid_area": null,
            "grid_auto_columns": null,
            "grid_auto_flow": null,
            "grid_auto_rows": null,
            "grid_column": null,
            "grid_gap": null,
            "grid_row": null,
            "grid_template_areas": null,
            "grid_template_columns": null,
            "grid_template_rows": null,
            "height": null,
            "justify_content": null,
            "justify_items": null,
            "left": null,
            "margin": null,
            "max_height": null,
            "max_width": null,
            "min_height": null,
            "min_width": null,
            "object_fit": null,
            "object_position": null,
            "order": null,
            "overflow": null,
            "overflow_x": null,
            "overflow_y": null,
            "padding": null,
            "right": null,
            "top": null,
            "visibility": null,
            "width": null
          }
        },
        "4b29ed954d3a43e7875a670ac0290d5b": {
          "model_module": "@jupyter-widgets/controls",
          "model_name": "DescriptionStyleModel",
          "model_module_version": "1.5.0",
          "state": {
            "_model_module": "@jupyter-widgets/controls",
            "_model_module_version": "1.5.0",
            "_model_name": "DescriptionStyleModel",
            "_view_count": null,
            "_view_module": "@jupyter-widgets/base",
            "_view_module_version": "1.2.0",
            "_view_name": "StyleView",
            "description_width": ""
          }
        },
        "1284de410c424c66a17d2a826436bbb8": {
          "model_module": "@jupyter-widgets/base",
          "model_name": "LayoutModel",
          "model_module_version": "1.2.0",
          "state": {
            "_model_module": "@jupyter-widgets/base",
            "_model_module_version": "1.2.0",
            "_model_name": "LayoutModel",
            "_view_count": null,
            "_view_module": "@jupyter-widgets/base",
            "_view_module_version": "1.2.0",
            "_view_name": "LayoutView",
            "align_content": null,
            "align_items": null,
            "align_self": null,
            "border": null,
            "bottom": null,
            "display": null,
            "flex": null,
            "flex_flow": null,
            "grid_area": null,
            "grid_auto_columns": null,
            "grid_auto_flow": null,
            "grid_auto_rows": null,
            "grid_column": null,
            "grid_gap": null,
            "grid_row": null,
            "grid_template_areas": null,
            "grid_template_columns": null,
            "grid_template_rows": null,
            "height": null,
            "justify_content": null,
            "justify_items": null,
            "left": null,
            "margin": null,
            "max_height": null,
            "max_width": null,
            "min_height": null,
            "min_width": null,
            "object_fit": null,
            "object_position": null,
            "order": null,
            "overflow": null,
            "overflow_x": null,
            "overflow_y": null,
            "padding": null,
            "right": null,
            "top": null,
            "visibility": null,
            "width": null
          }
        },
        "48101653a61341c4a5461f1d430039ce": {
          "model_module": "@jupyter-widgets/controls",
          "model_name": "ProgressStyleModel",
          "model_module_version": "1.5.0",
          "state": {
            "_model_module": "@jupyter-widgets/controls",
            "_model_module_version": "1.5.0",
            "_model_name": "ProgressStyleModel",
            "_view_count": null,
            "_view_module": "@jupyter-widgets/base",
            "_view_module_version": "1.2.0",
            "_view_name": "StyleView",
            "bar_color": null,
            "description_width": ""
          }
        },
        "1efa42470c2545f1b4943ad909d79f9c": {
          "model_module": "@jupyter-widgets/base",
          "model_name": "LayoutModel",
          "model_module_version": "1.2.0",
          "state": {
            "_model_module": "@jupyter-widgets/base",
            "_model_module_version": "1.2.0",
            "_model_name": "LayoutModel",
            "_view_count": null,
            "_view_module": "@jupyter-widgets/base",
            "_view_module_version": "1.2.0",
            "_view_name": "LayoutView",
            "align_content": null,
            "align_items": null,
            "align_self": null,
            "border": null,
            "bottom": null,
            "display": null,
            "flex": null,
            "flex_flow": null,
            "grid_area": null,
            "grid_auto_columns": null,
            "grid_auto_flow": null,
            "grid_auto_rows": null,
            "grid_column": null,
            "grid_gap": null,
            "grid_row": null,
            "grid_template_areas": null,
            "grid_template_columns": null,
            "grid_template_rows": null,
            "height": null,
            "justify_content": null,
            "justify_items": null,
            "left": null,
            "margin": null,
            "max_height": null,
            "max_width": null,
            "min_height": null,
            "min_width": null,
            "object_fit": null,
            "object_position": null,
            "order": null,
            "overflow": null,
            "overflow_x": null,
            "overflow_y": null,
            "padding": null,
            "right": null,
            "top": null,
            "visibility": null,
            "width": null
          }
        },
        "d9ef931bfcd54ab29857aadcdf7742f8": {
          "model_module": "@jupyter-widgets/controls",
          "model_name": "DescriptionStyleModel",
          "model_module_version": "1.5.0",
          "state": {
            "_model_module": "@jupyter-widgets/controls",
            "_model_module_version": "1.5.0",
            "_model_name": "DescriptionStyleModel",
            "_view_count": null,
            "_view_module": "@jupyter-widgets/base",
            "_view_module_version": "1.2.0",
            "_view_name": "StyleView",
            "description_width": ""
          }
        }
      }
    }
  },
  "cells": [
    {
      "cell_type": "code",
      "execution_count": null,
      "metadata": {
        "id": "CN1BmRS2YPbd"
      },
      "outputs": [],
      "source": [
        "from google.colab import userdata\n",
        "OPENAI_API_KEY = userdata.get('OPENAI_API_KEY')"
      ]
    },
    {
      "cell_type": "code",
      "source": [
        "from typing import List, Optional\n",
        "from pydantic import BaseModel\n",
        "\n",
        "\n",
        "class Patient(BaseModel):\n",
        "    name: str\n",
        "    age: int\n",
        "    sex: str\n",
        "\n",
        "\n",
        "class Lab(BaseModel):\n",
        "    category: str\n",
        "    test_name: str\n",
        "    value: str\n",
        "    unit: str\n",
        "    reference_range: str\n",
        "    flag: str\n",
        "\n",
        "\n",
        "class CVDSummary(BaseModel):\n",
        "    five_year_risk_percent: float\n",
        "    risk_level: str\n",
        "    interpretation: str\n",
        "    modifiable_risk_factors: List[str]\n",
        "    risk_reduction_advice: List[str]\n",
        "\n",
        "\n",
        "class Lifestyle(BaseModel):\n",
        "    smoking: str\n",
        "    alcohol: str\n",
        "    diet: str\n",
        "    physical_activity: str\n",
        "\n",
        "\n",
        "class Assessment(BaseModel):\n",
        "    summary: str\n",
        "    family_history: str\n",
        "    lifestyle: Lifestyle\n",
        "\n",
        "\n",
        "class PlanItem(BaseModel):\n",
        "    advice: str\n",
        "    kb_resource_id: str\n",
        "\n",
        "\n",
        "class RedFlag(BaseModel):\n",
        "    symptom: str\n",
        "    note: str\n",
        "\n",
        "\n",
        "class Resource(BaseModel):\n",
        "    category: str\n",
        "    title: str\n",
        "    url: str\n",
        "\n",
        "class CategoryReportItem(BaseModel):\n",
        "    category: str\n",
        "    text: str\n",
        "    sources: List[str]\n",
        "\n",
        "\n",
        "class MedicalReport(BaseModel):\n",
        "    patient: Patient\n",
        "    labs: List[Lab]\n",
        "    cvd_summary: CVDSummary\n",
        "    assessment: Assessment\n",
        "    plan: List[PlanItem]\n",
        "    red_flags: List[RedFlag]\n",
        "    resources_table: List[Resource]\n",
        "    category_reports: List[CategoryReportItem]\n",
        "    disclaimer: str"
      ],
      "metadata": {
        "id": "nksyIGVIKvyl"
      },
      "execution_count": null,
      "outputs": []
    },
    {
      "cell_type": "code",
      "source": [
        "import json\n",
        "from pathlib import Path\n",
        "\n",
        "\n",
        "def read_medical_report(file_path: str) -> MedicalReport:\n",
        "    with open(file_path, 'r') as f:\n",
        "        data = json.load(f)\n",
        "    return MedicalReport(**data)\n",
        "\n",
        "data = read_medical_report('/content/drive/MyDrive/MyfastHealth/projects/AI/user_report_generator/kushagra_mandwal.json')"
      ],
      "metadata": {
        "id": "Pjzgs3rgLI0W"
      },
      "execution_count": null,
      "outputs": []
    },
    {
      "cell_type": "code",
      "source": [
        "def get_unique_categories(report: MedicalReport) -> List[str]:\n",
        "    return list(set(resource.category for resource in report.resources_table))\n",
        "\n",
        "unique_categories = get_unique_categories(data)"
      ],
      "metadata": {
        "id": "NAj0ftrYLJai"
      },
      "execution_count": null,
      "outputs": []
    },
    {
      "cell_type": "code",
      "source": [
        "unique_categories"
      ],
      "metadata": {
        "colab": {
          "base_uri": "https://localhost:8080/"
        },
        "id": "PpKRN28KLkAG",
        "outputId": "b9d2ce46-3e59-4521-df28-fd02547c694b"
      },
      "execution_count": null,
      "outputs": [
        {
          "output_type": "execute_result",
          "data": {
            "text/plain": [
              "['weight_management', 'alcohol', 'healthy_eating', 'blood_pressure']"
            ]
          },
          "metadata": {},
          "execution_count": 8
        }
      ]
    },
    {
      "cell_type": "code",
      "source": [
        "class KnowledgeBaseItem(BaseModel):\n",
        "    file_name: str\n",
        "    id: str\n",
        "    title: str\n",
        "    category: str\n",
        "    applies_to: List[str]\n",
        "    summary_length_words: int\n",
        "    source_url: str\n",
        "    verified_source: bool\n",
        "    last_updated: str\n",
        "    status: str\n",
        "\n",
        "\n",
        "def read_knowledge_base(file_path: str) -> List[KnowledgeBaseItem]:\n",
        "    with open(file_path, 'r') as f:\n",
        "        data = json.load(f)\n",
        "    return [KnowledgeBaseItem(**item) for item in data]"
      ],
      "metadata": {
        "id": "IcqT2-NQMP9W"
      },
      "execution_count": null,
      "outputs": []
    },
    {
      "cell_type": "code",
      "source": [
        "!ls /content/drive/MyDrive/MyfastHealth/projects/AI/user_report_generator/knowledgebase"
      ],
      "metadata": {
        "colab": {
          "base_uri": "https://localhost:8080/"
        },
        "id": "TfE4HHhDMSbF",
        "outputId": "8f3976f1-b470-4879-9d07-c38ad3773f0c"
      },
      "execution_count": null,
      "outputs": [
        {
          "output_type": "stream",
          "name": "stdout",
          "text": [
            "alcohol_nhmrc.md\n",
            "alcohol_support_fare.md\n",
            "blood_pressure_stroke_highbp_fact_sheet.md\n",
            "first_nations_at_si_healthy_eating_guide.md\n",
            "first_nations_quitline_aboriginal.md\n",
            "healthy_eating_aghe.md\n",
            "healthy_eating_heart_healthy_body_weight.md\n",
            "healthy_eating_heartpattern.md\n",
            "healthy_eatingquiz_home.md\n",
            "metadata.json\n",
            "weight_management_weightloss_healthylifestyle.md\n"
          ]
        }
      ]
    },
    {
      "cell_type": "code",
      "source": [
        "def get_category_content(category: str, kb_path: str, metadata_path: str) -> str:\n",
        "    knowledge_base = read_knowledge_base(metadata_path)\n",
        "\n",
        "    content_parts = []\n",
        "    for item in knowledge_base:\n",
        "        if item.category == category:\n",
        "            file_path = f\"{kb_path}/{item.file_name}\"\n",
        "            with open(file_path, 'r') as f:\n",
        "                text = f.read()\n",
        "            content_parts.append(f\"# {item.title}\\n\\nSource: {item.source_url}\\n\\n{text}\\n\\n---\\n\")\n",
        "\n",
        "    return \"\\n\".join(content_parts)\n",
        "\n",
        "kb_path = \"/content/drive/MyDrive/MyfastHealth/projects/AI/user_report_generator/knowledgebase\"\n",
        "metadata_path = \"/content/drive/MyDrive/MyfastHealth/projects/AI/user_report_generator/knowledgebase/metadata.json\"\n",
        "content = get_category_content(\"weight_management\", kb_path, metadata_path)"
      ],
      "metadata": {
        "id": "XVhtBRLQMVSy"
      },
      "execution_count": null,
      "outputs": []
    },
    {
      "cell_type": "code",
      "source": [
        "content"
      ],
      "metadata": {
        "colab": {
          "base_uri": "https://localhost:8080/",
          "height": 1000
        },
        "id": "n2adoQ8jOP3Q",
        "outputId": "bfedfbe7-60bb-41cf-894e-20fb9e883988"
      },
      "execution_count": null,
      "outputs": [
        {
          "output_type": "execute_result",
          "data": {
            "text/plain": [
              "'# Weight loss - a healthy approach\\n\\nSource: https://www.betterhealth.vic.gov.au/health/healthyliving/weight-loss-a-healthy-approach\\n\\nHere is a plain-language summary of the “Weight loss – a healthy approach” fact sheet from the Better Health Channel (Victoria):\\n\\n⸻\\n\\nBackground\\n\\t•\\tBeing overweight or having too much body fat increases the risk of health problems such as coronary heart disease and type 2 diabetes.  ￼\\n\\t•\\tMany people try fad diets or “quick fixes,” but although they may work while you stick with them, weight is often regained once usual eating resumes.  ￼\\n\\t•\\tRepeated cycles of losing and regaining weight (yo-yo dieting) can impair metabolism (the body burns fewer calories) and may itself raise heart disease risk.  ￼\\n\\n⸻\\n\\nMain Recommendations & Healthy Approach\\n\\n1. Go slowly and sustainably\\n\\t•\\tA healthy pace of weight loss is about ½ to 1 kg per week.  ￼\\n\\t•\\tMaking small, realistic changes you can maintain long term is better than extreme diets.  ￼\\n\\t•\\tAvoid “crash” diets or extreme restrictions; your body may respond by lowering its metabolic rate (burning fewer calories) and losing muscle along with fat.  ￼\\n\\n2. Understand your “energy in vs energy out”\\n\\t•\\tWeight change depends on the balance between energy you consume (food/drinks) and energy you use (movement, daily activity, exercise).  ￼\\n\\t•\\tIt helps to track your current habits. Keeping a food diary (what you eat, when, hunger/emotions) may reveal patterns that lead to unhelpful eating.  ￼\\n\\t•\\tAlso tracking physical activity (formal exercise and incidental movement like walking, gardening, standing) helps see where you can increase “energy out.”  ￼\\n\\n3. Build a healthy weight-loss plan (SMART goals)\\n\\t•\\tSpecific: define exactly what change you’ll try (e.g. “eat 2 pieces of fruit daily”).  ￼\\n\\t•\\tMeasurable: use numbers or amounts.  ￼\\n\\t•\\tAchievable & Realistic: set goals you believe you can follow, given your life.  ￼\\n\\t•\\tTime-bound: give a time frame (e.g. by the end of month).  ￼\\n\\t•\\tStart with just one or two small changes. Once those are habits, add more.  ￼\\n\\n4. Nutrition strategies (energy in)\\n\\t•\\tBase your eating pattern on the Australian Guide to Healthy Eating.  ￼\\n\\t•\\tIncrease vegetables and fruit—especially vegetables, which tend to be lower in kilojoules and higher in fibre to help keep you full.  ￼\\n\\t•\\tBe mindful of portions. Larger servings mean more kilojoules.  ￼\\n\\t•\\tReduce foods high in added fats (especially saturated fat), sugar, and salt.  ￼\\n\\t•\\tTreats, soft drinks, snack foods and alcoholic drinks should be occasional extras—not regular staples.  ￼\\n\\t•\\tDo not eliminate entire food groups; instead choose less-processed, more nutritious options.  ￼\\n\\t•\\tDrink water instead of sugary drinks.  ￼\\n\\t•\\tAvoid emotional or distracted eating (e.g. snacking while doing something else).  ￼\\n\\n5. Movement strategies (energy out)\\n\\t•\\tYou don’t need to do extreme workouts. Even 30 minutes of moderate activity daily can help.  ￼\\n\\t•\\tIncrease incidental movement: walk more, stand, take stairs, do gardening, or any activity you enjoy.  ￼\\n\\t•\\tBegin slowly, especially if you have been inactive for awhile.  ￼\\n\\n6. Staying motivated & measuring progress\\n\\t•\\tDon’t rely only on the scale. Also use waist circumference (targets: < 94 cm for men, < 80 cm for women) and how your clothes fit or your energy/fitness changes.  ￼\\n\\t•\\tBe kind to yourself. Slips or plateaus are expected—adjust goals or timelines as needed.  ￼\\n\\n⸻\\n\\nWhen to Seek Professional Help\\n\\t•\\tIf you have tried many times without success, or if your weight history is complex, consider seeing an Accredited Practising Dietitian.  ￼\\n\\t•\\tIf you have health conditions (e.g. heart disease, diabetes) or are older, talk with your GP before starting significant changes in diet or exercise.  ￼\\n\\n⸻\\n\\nThis summary is general information and not a substitute for medical advice. If you have specific health conditions or dietary needs, please talk with your doctor or an Accredited Practising Dietitian.\\n\\n{\\n  \"file_name\": \"weight_management_weightloss_healthylifestyle.json\",\\n  \"id\": \"healthy_approach_weight_loss\",\\n  \"title\": \"Weight loss - a healthy approach\",\\n  \"category\": \"weight_management\",\\n  \"applies_to\": [\"all\", \"overweight\", \"obesity\"],\\n  \"summary_length_words\": 400,\\n  \"source_url\": \"https://www.betterhealth.vic.gov.au/health/healthyliving/weight-loss-a-healthy-approach\",\\n  \"verified_source\": true,\\n  \"last_updated\": \"2025-10-10\",\\n  \"status\": \"draft\"\\n}\\n\\n---\\n\\n# Ten top tips for weight control\\n\\nSource: https://www.racgp.org.au/clinical-resources/clinical-guidelines/handi/handi-interventions/nutrition/ten-top-tips-for-weight-control\\n\\nHere is a 400-word plain-language summary of the “Ten Top Tips for Weight Control” from the RACGP’s HANDI program, based exactly on their content:\\n\\n⸻\\n\\nBackground & Purpose\\n\\nThe RACGP describes Ten Top Tips as a habit-change intervention aimed at helping people with overweight (BMI 25–30) or obesity (BMI >30) to control weight by building healthy routines.  ￼\\nTraditional weight-loss approaches that rely only on motivation and education often lose effectiveness over time. The habit-based approach focuses on simple, repeatable behaviours that become automatic.  ￼\\nClinical trials of Ten Top Tips show short-term weight loss is achievable and that some benefits persist for 12 months.  ￼\\n\\nThe tip package is delivered in a consumer leaflet format, and people can self-apply it at home.  ￼\\nThere are precautions: people with complex medical needs (e.g. multiple comorbidities) or very severe obesity may require tailored dietitian or specialist support.  ￼\\n\\n⸻\\n\\nThe Ten Tips (Main Recommendations)\\n\\nThe TEN tips are simple actions intended to become habitual:\\n\\t1.\\tKeep to a meal routine\\nEat at roughly the same times each day (whether 2 or 5 meals).  ￼\\n\\t2.\\tGo reduced fat\\nChoose reduced-fat options (dairy, spreads, dressings) and use high-fat foods sparingly.  ￼\\n\\t3.\\tWalk off the weight\\nAim for 10,000 steps per day (≈ 60–90 minutes of moderate activity). Use a pedometer, take stairs, walk more in daily life.  ￼\\n\\t4.\\tPack a healthy snack\\nIf snacking, pick nutrient-dense foods (fruit, plain yoghurt, nuts) instead of chips, chocolate, etc.  ￼\\n\\t5.\\tLearn food labels\\nRead labels for fat, sugar content when shopping or preparing foods.  ￼\\n\\t6.\\tCaution with your portions\\nDon’t heap your plate (except vegetables). Think twice before second helpings.  ￼\\n\\t7.\\tUp on your feet\\nBreak up sitting time — stand for 10 minutes every hour. Use opportunities to stand more (on transport, breaks).  ￼\\n\\t8.\\tThink about your drinks\\nChoose water first. Limit unsweetened fruit juice to one 200 ml glass daily. Alcohol is high in calories — limit to 2 drinks/day.  ￼\\n\\t9.\\tFocus on your food\\nSlow down. Avoid eating while multitasking (e.g. TV, driving). Eat at a table if possible.  ￼\\n\\t10.\\tDo not forget your 5 a day\\nAim for at least 5 portions (≈ 400 g) of mixed vegetables and fruit daily.  ￼\\n\\nImplementation in studies often includes a brief induction (by nurse or dietitian) plus a self-monitoring form.  ￼\\n\\n⸻\\n\\nBehaviour / Lifestyle Advice & Supporting Principles\\n\\t•\\tThe key is repetition and simplicity — repeated practice leads to automation (habit).  ￼\\n\\t•\\tThe approach may be as effective or more effective than traditional behaviour-change strategies alone in sustaining weight control.  ￼\\n\\t•\\tThe leaflet is designed for self-use in home settings, but combining it with professional guidance (especially in higher risk or complex cases) may improve outcomes.  ￼\\n\\n⸻\\n\\nWhen to Seek Professional Help\\n\\t•\\tIf you have comorbid conditions (e.g. diabetes, cardiovascular disease, renal disease) or complex nutritional needs, see an Accredited Practising Dietitian or your GP for tailored care.  ￼\\n\\t•\\tIf you have severe obesity or difficulties achieving or maintaining weight loss with self-help, a specialist weight management service may be more appropriate.  ￼\\n\\t•\\tIf the tips are not working, or you experience health changes (e.g. fatigue, new symptoms), consult a clinician to reassess your plan.\\n\\n⸻\\n\\nThis summary is general information and not a substitute for medical advice. If you have specific health conditions or weight concerns, please consult your GP or an Accredited Practising Dietitian.\\n\\n{\\n  \"file_name\": \"weight_management_tentoptips.json\",\\n  \"id\": \"racgp_ten_top_tips_weight\",\\n  \"title\": \"Ten top tips for weight control\",\\n  \"category\": \"weight_management\",\\n  \"applies_to\": [\"all\", \"overweight\", \"obesity\"],\\n  \"summary_length_words\": 400,\\n  \"source_url\": \"https://www.racgp.org.au/clinical-resources/clinical-guidelines/handi/handi-interventions/nutrition/ten-top-tips-for-weight-control\",\\n  \"verified_source\": true,\\n  \"last_updated\": \"2025-10-10\",\\n  \"status\": \"draft\"\\n}\\n\\n---\\n\\n# Weight loss and dieting\\n\\nSource: https://www.healthdirect.gov.au/weight-loss-and-dieting\\n\\nHere is a plain-language summary based on the “Weight loss and dieting” page from Healthdirect Australia:\\n\\n⸻\\n\\nBackground\\n\\t•\\tA diet generally means selecting certain foods, often to manage weight, improve health, or lower disease risk.  ￼\\n\\t•\\tMore than half of Australians live with overweight or obesity, which increases the chance of chronic diseases such as heart disease, stroke, type 2 diabetes, and some cancers.  ￼\\n\\t•\\tEven losing 5 kg can improve how you feel and reduce health risks.  ￼\\n\\t•\\tThe site cautions that “fad diets” are common and can be harmful.  ￼\\n\\n⸻\\n\\nHealthy Weight Loss: Key Principles\\n\\nBalanced diet + physical activity\\n\\t•\\tThere is no one perfect diet for everyone. A healthy approach combines a balanced diet with increased physical activity.  ￼\\n\\t•\\tFocus on small, gradual changes that you can maintain over the long term.  ￼\\n\\t•\\tYour diet should emphasise drinking enough water and eating from the five main food groups: vegetables, fruit, whole grains, lean protein (meat, fish, eggs, legumes, nuts), and dairy (preferably reduced fat).  ￼\\n\\t•\\tLimit foods high in saturated fat, added sugar, salt, and reduce alcohol intake.  ￼\\n\\nPhysical activity guidelines\\n\\t•\\tFor most adults, aim for 2½ to 5 hours of moderate activity per week (e.g. brisk walking, swimming) or 1¼ to 2½ hours of vigorous activity (e.g. running, aerobics).  ￼\\n\\t•\\tInclude muscle-strengthening activities (such as squats, pushups, weights) in your routine regularly.  ￼\\n\\t•\\tMake movement part of everyday life: use stairs, walk or cycle instead of driving, reduce sitting time.  ￼\\n\\n⸻\\n\\nDangers & Features of Fad Diets\\n\\t•\\tA fad diet typically promises quick, easy weight loss, rigid rules, or exclusion of whole food groups.  ￼\\n\\t•\\tRisks include:\\n\\t•\\tSlowing your metabolism so you burn fewer kilojoules over time  ￼\\n\\t•\\tPersistent hunger, cravings, or rebound weight gain  ￼\\n\\t•\\tNutrient deficiencies, fatigue, headaches, dehydration, lower bone density  ￼\\n\\t•\\tPossible trigger or worsening of eating disorders  ￼\\n\\t•\\tYou can spot a fad diet if it:\\n\\t•\\tBans certain foods altogether  ￼\\n\\t•\\tPromises instant weight loss without supervision  ￼\\n\\t•\\tRequires expensive supplements or shakes  ￼\\n\\t•\\tUses a “one size fits all” approach  ￼\\n\\n⸻\\n\\nPractical Tips to Support Weight Control\\n\\nHealthdirect suggests five actionable steps to maintain a healthy weight:\\n\\t1.\\tPlan your shopping and meals — having healthy foods at home makes good eating easier.  ￼\\n\\t2.\\tSwap unhealthy items (high in kilojoules, fat, salt, sugar) for healthier alternatives or home-made versions.  ￼\\n\\t3.\\tWhen ordering takeaway, choose the healthiest options available.  ￼\\n\\t4.\\tAdd one more activity into your week (e.g. fast walking, cycling). To lose weight you may need to increase activity further.  ￼\\n\\t5.\\tIdentify your “weakness times” — moments when stress, fatigue or social settings make you more likely to choose high-calorie foods. Plan to manage those times, but allow occasional treats.  ￼\\n\\n⸻\\n\\nWhen to Seek Professional Help\\n\\t•\\tSee a dietitian if you are worried about your weight or diet. They can provide personalised advice.  ￼\\n\\t•\\tBe cautious if you have medical conditions (diabetes, heart disease, cancer) — fad diets may pose extra risks in those situations.  ￼\\n\\t•\\tIf changes you try don’t work, or you notice symptoms like extreme fatigue or health worsening, consult your GP or a qualified health professional.\\n\\n⸻\\n\\nThis summary is general information and not a substitute for medical advice. If you have specific health conditions or dietary needs, talk with your doctor or an Accredited Practising Dietitian.\\n\\n{\\n  \"file_name\": \"weight_management_healthdirect_weightloss.json\",\\n  \"id\": \"healthdirect_weight_loss_dieting\",\\n  \"title\": \"Weight loss and dieting\",\\n  \"category\": \"weight_management\",\\n  \"applies_to\": [\"all\", \"overweight\", \"obesity\"],\\n  \"summary_length_words\": 400,\\n  \"source_url\": \"https://www.healthdirect.gov.au/weight-loss-and-dieting\",\\n  \"verified_source\": true,\\n  \"last_updated\": \"2025-10-10\",\\n  \"status\": \"draft\"\\n}\\n\\n---\\n'"
            ],
            "application/vnd.google.colaboratory.intrinsic+json": {
              "type": "string"
            }
          },
          "metadata": {},
          "execution_count": 13
        }
      ]
    },
    {
      "cell_type": "code",
      "source": [
        "!pip install langchain_openai langchain"
      ],
      "metadata": {
        "colab": {
          "base_uri": "https://localhost:8080/"
        },
        "id": "6QEio6N5Pwq-",
        "outputId": "9b997e73-3b98-495b-ad64-24b785cda40f"
      },
      "execution_count": null,
      "outputs": [
        {
          "output_type": "stream",
          "name": "stdout",
          "text": [
            "Collecting langchain_openai\n",
            "  Downloading langchain_openai-0.3.35-py3-none-any.whl.metadata (2.4 kB)\n",
            "Requirement already satisfied: langchain in /usr/local/lib/python3.12/dist-packages (0.3.27)\n",
            "Requirement already satisfied: langchain-core<1.0.0,>=0.3.78 in /usr/local/lib/python3.12/dist-packages (from langchain_openai) (0.3.78)\n",
            "Requirement already satisfied: openai<3.0.0,>=1.104.2 in /usr/local/lib/python3.12/dist-packages (from langchain_openai) (1.109.1)\n",
            "Requirement already satisfied: tiktoken<1.0.0,>=0.7.0 in /usr/local/lib/python3.12/dist-packages (from langchain_openai) (0.12.0)\n",
            "Requirement already satisfied: langchain-text-splitters<1.0.0,>=0.3.9 in /usr/local/lib/python3.12/dist-packages (from langchain) (0.3.11)\n",
            "Requirement already satisfied: langsmith>=0.1.17 in /usr/local/lib/python3.12/dist-packages (from langchain) (0.4.33)\n",
            "Requirement already satisfied: pydantic<3.0.0,>=2.7.4 in /usr/local/lib/python3.12/dist-packages (from langchain) (2.11.10)\n",
            "Requirement already satisfied: SQLAlchemy<3,>=1.4 in /usr/local/lib/python3.12/dist-packages (from langchain) (2.0.43)\n",
            "Requirement already satisfied: requests<3,>=2 in /usr/local/lib/python3.12/dist-packages (from langchain) (2.32.4)\n",
            "Requirement already satisfied: PyYAML>=5.3 in /usr/local/lib/python3.12/dist-packages (from langchain) (6.0.3)\n",
            "Requirement already satisfied: tenacity!=8.4.0,<10.0.0,>=8.1.0 in /usr/local/lib/python3.12/dist-packages (from langchain-core<1.0.0,>=0.3.78->langchain_openai) (8.5.0)\n",
            "Requirement already satisfied: jsonpatch<2.0.0,>=1.33.0 in /usr/local/lib/python3.12/dist-packages (from langchain-core<1.0.0,>=0.3.78->langchain_openai) (1.33)\n",
            "Requirement already satisfied: typing-extensions<5.0.0,>=4.7.0 in /usr/local/lib/python3.12/dist-packages (from langchain-core<1.0.0,>=0.3.78->langchain_openai) (4.15.0)\n",
            "Requirement already satisfied: packaging<26.0.0,>=23.2.0 in /usr/local/lib/python3.12/dist-packages (from langchain-core<1.0.0,>=0.3.78->langchain_openai) (25.0)\n",
            "Requirement already satisfied: httpx<1,>=0.23.0 in /usr/local/lib/python3.12/dist-packages (from langsmith>=0.1.17->langchain) (0.28.1)\n",
            "Requirement already satisfied: orjson>=3.9.14 in /usr/local/lib/python3.12/dist-packages (from langsmith>=0.1.17->langchain) (3.11.3)\n",
            "Requirement already satisfied: requests-toolbelt>=1.0.0 in /usr/local/lib/python3.12/dist-packages (from langsmith>=0.1.17->langchain) (1.0.0)\n",
            "Requirement already satisfied: zstandard>=0.23.0 in /usr/local/lib/python3.12/dist-packages (from langsmith>=0.1.17->langchain) (0.25.0)\n",
            "Requirement already satisfied: anyio<5,>=3.5.0 in /usr/local/lib/python3.12/dist-packages (from openai<3.0.0,>=1.104.2->langchain_openai) (4.11.0)\n",
            "Requirement already satisfied: distro<2,>=1.7.0 in /usr/local/lib/python3.12/dist-packages (from openai<3.0.0,>=1.104.2->langchain_openai) (1.9.0)\n",
            "Requirement already satisfied: jiter<1,>=0.4.0 in /usr/local/lib/python3.12/dist-packages (from openai<3.0.0,>=1.104.2->langchain_openai) (0.11.0)\n",
            "Requirement already satisfied: sniffio in /usr/local/lib/python3.12/dist-packages (from openai<3.0.0,>=1.104.2->langchain_openai) (1.3.1)\n",
            "Requirement already satisfied: tqdm>4 in /usr/local/lib/python3.12/dist-packages (from openai<3.0.0,>=1.104.2->langchain_openai) (4.67.1)\n",
            "Requirement already satisfied: annotated-types>=0.6.0 in /usr/local/lib/python3.12/dist-packages (from pydantic<3.0.0,>=2.7.4->langchain) (0.7.0)\n",
            "Requirement already satisfied: pydantic-core==2.33.2 in /usr/local/lib/python3.12/dist-packages (from pydantic<3.0.0,>=2.7.4->langchain) (2.33.2)\n",
            "Requirement already satisfied: typing-inspection>=0.4.0 in /usr/local/lib/python3.12/dist-packages (from pydantic<3.0.0,>=2.7.4->langchain) (0.4.2)\n",
            "Requirement already satisfied: charset_normalizer<4,>=2 in /usr/local/lib/python3.12/dist-packages (from requests<3,>=2->langchain) (3.4.3)\n",
            "Requirement already satisfied: idna<4,>=2.5 in /usr/local/lib/python3.12/dist-packages (from requests<3,>=2->langchain) (3.10)\n",
            "Requirement already satisfied: urllib3<3,>=1.21.1 in /usr/local/lib/python3.12/dist-packages (from requests<3,>=2->langchain) (2.5.0)\n",
            "Requirement already satisfied: certifi>=2017.4.17 in /usr/local/lib/python3.12/dist-packages (from requests<3,>=2->langchain) (2025.10.5)\n",
            "Requirement already satisfied: greenlet>=1 in /usr/local/lib/python3.12/dist-packages (from SQLAlchemy<3,>=1.4->langchain) (3.2.4)\n",
            "Requirement already satisfied: regex>=2022.1.18 in /usr/local/lib/python3.12/dist-packages (from tiktoken<1.0.0,>=0.7.0->langchain_openai) (2024.11.6)\n",
            "Requirement already satisfied: httpcore==1.* in /usr/local/lib/python3.12/dist-packages (from httpx<1,>=0.23.0->langsmith>=0.1.17->langchain) (1.0.9)\n",
            "Requirement already satisfied: h11>=0.16 in /usr/local/lib/python3.12/dist-packages (from httpcore==1.*->httpx<1,>=0.23.0->langsmith>=0.1.17->langchain) (0.16.0)\n",
            "Requirement already satisfied: jsonpointer>=1.9 in /usr/local/lib/python3.12/dist-packages (from jsonpatch<2.0.0,>=1.33.0->langchain-core<1.0.0,>=0.3.78->langchain_openai) (3.0.0)\n",
            "Downloading langchain_openai-0.3.35-py3-none-any.whl (75 kB)\n",
            "\u001b[2K   \u001b[90m━━━━━━━━━━━━━━━━━━━━━━━━━━━━━━━━━━━━━━━━\u001b[0m \u001b[32m76.0/76.0 kB\u001b[0m \u001b[31m2.8 MB/s\u001b[0m eta \u001b[36m0:00:00\u001b[0m\n",
            "\u001b[?25hInstalling collected packages: langchain_openai\n",
            "Successfully installed langchain_openai-0.3.35\n"
          ]
        }
      ]
    },
    {
      "cell_type": "code",
      "source": [
        "from google.colab import userdata\n",
        "from langchain_openai import ChatOpenAI\n",
        "from langchain_core.messages import HumanMessage, SystemMessage\n",
        "from langchain_core.output_parsers import JsonOutputParser\n",
        "from pydantic import BaseModel, Field\n",
        "import os\n",
        "\n",
        "\n",
        "class CategoryReport(BaseModel):\n",
        "    category: str = Field(description=\"The category of the report\")\n",
        "    text: str = Field(description=\"The one-page friendly report text with inline source links\")\n",
        "    sources: List[str] = Field(description=\"List of source URLs used\")\n",
        "\n",
        "\n",
        "def generate_category_report(category_content: str, category: str) -> dict:\n",
        "    os.environ[\"OPENAI_API_KEY\"] = userdata.get('OPENAI_API_KEY')\n",
        "    llm = ChatOpenAI(model=\"gpt-4o\")\n",
        "    parser = JsonOutputParser(pydantic_object=CategoryReport)\n",
        "\n",
        "    system_message = SystemMessage(content=\"\"\"You are a helpful health information assistant.\n",
        "    Create a friendly, one-page report summarizing the provided content.\n",
        "    Keep the tone warm and encouraging.\n",
        "    Include inline links in the text using markdown format [text](url).\n",
        "    Also provide a separate list of all source URLs at the end.\"\"\")\n",
        "\n",
        "    human_message = HumanMessage(content=f\"\"\"Based on the following content about {category},\n",
        "    create a one-page friendly summary report.\n",
        "    Include inline source links in markdown format throughout the text.\n",
        "    Extract and list all source URLs separately.\n",
        "\n",
        "    Content:\n",
        "    {category_content}\n",
        "\n",
        "    {parser.get_format_instructions()}\"\"\")\n",
        "\n",
        "    response = llm.invoke([system_message, human_message])\n",
        "    return parser.parse(response.content)"
      ],
      "metadata": {
        "id": "4LjZWPqAOXO3"
      },
      "execution_count": null,
      "outputs": []
    },
    {
      "cell_type": "code",
      "source": [
        "temp = generate_category_report(content, \"weight_management\")"
      ],
      "metadata": {
        "id": "RqJEJzMPPuvV"
      },
      "execution_count": null,
      "outputs": []
    },
    {
      "cell_type": "code",
      "source": [
        "temp"
      ],
      "metadata": {
        "colab": {
          "base_uri": "https://localhost:8080/"
        },
        "id": "5UtJ4X-WQKtL",
        "outputId": "ac2451ed-7bbd-4a2e-a13a-c059dd34ed2c"
      },
      "execution_count": null,
      "outputs": [
        {
          "output_type": "execute_result",
          "data": {
            "text/plain": [
              "{'category': 'weight_management',\n",
              " 'text': \"Losing weight can be a rewarding journey towards better health and well-being. It's important to adopt a healthy, balanced approach that you can maintain over the long term, as highlighted in several guides. For instance, the [Better Health Channel](https://www.betterhealth.vic.gov.au/health/healthyliving/weight-loss-a-healthy-approach) suggests losing weight slowly at about ½ to 1 kg per week and emphasizes sustainable lifestyle changes over fad diets, which often lead to yo-yo dieting and can harm metabolism. Understanding the balance between the energy you consume and the energy you expend is key. Keeping a food diary and tracking physical activities can offer insights into your habits and help adjust behaviors for better outcomes.\\n\\nBuilding a plan with [SMART goals](https://www.betterhealth.vic.gov.au/health/healthyliving/weight-loss-a-healthy-approach) — being Specific, Measurable, Achievable, Realistic, and Time-bound — is crucial in making effective changes. Focusing on a diet rich in fruits, vegetables, lean proteins, and whole grains, while limiting processed foods and sugary drinks, supports weight loss.\\n\\nThe [Ten Top Tips](https://www.racgp.org.au/clinical-resources/clinical-guidelines/handi/handi-interventions/nutrition/ten-top-tips-for-weight-control) from RACGP provides a habit-based approach with practical steps like maintaining a meal routine, choosing reduced-fat options, and aiming for daily physical activities such as walking 10,000 steps. These tips are designed to become ingrained, automatic habits that support long-term weight management.\\n\\nMoreover, [Healthdirect](https://www.healthdirect.gov.au/weight-loss-and-dieting) points out the dangers of fad diets and emphasizes the importance of a balanced diet paired with regular physical activity. Their advice includes practical actions like planning meals, swapping unhealthy options for healthier ones, and preparing for “weakness times” to avoid high-calorie foods.\\n\\nIf you've tried multiple strategies without success, it might be beneficial to seek guidance from health professionals. Accredited Practising Dietitians can offer personalized strategies suited to your health needs, and consulting your GP before making significant changes is wise if you have existing health conditions.\\n\\nRemember, the journey to weight loss is personal and unique, and even small victories contribute to your overall health. Be patient and kind to yourself along the way!\",\n",
              " 'sources': ['https://www.betterhealth.vic.gov.au/health/healthyliving/weight-loss-a-healthy-approach',\n",
              "  'https://www.racgp.org.au/clinical-resources/clinical-guidelines/handi/handi-interventions/nutrition/ten-top-tips-for-weight-control',\n",
              "  'https://www.healthdirect.gov.au/weight-loss-and-dieting']}"
            ]
          },
          "metadata": {},
          "execution_count": 24
        }
      ]
    },
    {
      "cell_type": "code",
      "source": [
        "from tqdm.notebook import tqdm\n",
        "\n",
        "reports = []\n",
        "for category in tqdm(unique_categories):\n",
        "    content = get_category_content(category, kb_path, metadata_path)\n",
        "    report = generate_category_report(content, category)\n",
        "    reports.append(report)"
      ],
      "metadata": {
        "colab": {
          "base_uri": "https://localhost:8080/",
          "height": 49,
          "referenced_widgets": [
            "0ee36fc303cb46bdb60a252850695108",
            "64b7b17042314cc9b0a3a71214d7d111",
            "9b130f3aa6f84997869856e6f2b98f90",
            "4043622fa3044369b24b696d85cfa3d9",
            "ba00d7e14322468f84d1ba6ffa8caabb",
            "f5df3c36c8ee457980e4f4abbe3baa58",
            "7a55386a31cd40c29ac9503e3d610e29",
            "b5753989ed9d4be2a25f188e74316385",
            "dcd44d6b3b4045caadffc3a44ad1822e",
            "01825d68616e4641aff12e4134fdf961",
            "a243fe8b1933479e85cd495b372a288a"
          ]
        },
        "id": "sRYvgl5RQkpw",
        "outputId": "9fedc238-c8ba-4336-a507-e748319018e6"
      },
      "execution_count": null,
      "outputs": [
        {
          "output_type": "display_data",
          "data": {
            "text/plain": [
              "  0%|          | 0/4 [00:00<?, ?it/s]"
            ],
            "application/vnd.jupyter.widget-view+json": {
              "version_major": 2,
              "version_minor": 0,
              "model_id": "0ee36fc303cb46bdb60a252850695108"
            }
          },
          "metadata": {}
        }
      ]
    },
    {
      "cell_type": "code",
      "source": [
        "from tqdm.notebook import tqdm\n",
        "import json\n",
        "from pathlib import Path\n",
        "\n",
        "\n",
        "def read_medical_report(file_path: str, kb_path: str, metadata_path: str) -> MedicalReport:\n",
        "    with open(file_path, 'r') as f:\n",
        "        report_data = json.load(f)\n",
        "\n",
        "    unique_categories = list(set(resource['category'] for resource in report_data['resources_table']))\n",
        "\n",
        "    reports = []\n",
        "    for category in tqdm(unique_categories):\n",
        "        content = get_category_content(category, kb_path, metadata_path)\n",
        "        report = generate_category_report(content, category)\n",
        "        reports.append(CategoryReportItem(**report))\n",
        "\n",
        "    report_data['category_reports'] = [report.model_dump() for report in reports]\n",
        "\n",
        "    return MedicalReport(**report_data)\n",
        "\n",
        "\n",
        "data = read_medical_report(\n",
        "    '/content/drive/MyDrive/MyfastHealth/projects/AI/user_report_generator/kushagra_mandwal.json',\n",
        "    kb_path,\n",
        "    metadata_path\n",
        ")"
      ],
      "metadata": {
        "colab": {
          "base_uri": "https://localhost:8080/",
          "height": 49,
          "referenced_widgets": [
            "acb3baea63044652a77d47d9f8308686",
            "1eed85b6fea54cc780c57b581cbd77c1",
            "2783a30cec9845c6afbaea9376312e1d",
            "d09c2f0580834beb8d016c6386c0bdc5",
            "f653ff9267ef4f36946f9fd14318cb1c",
            "0e3c64030071446a84b3ce8763b32963",
            "4b29ed954d3a43e7875a670ac0290d5b",
            "1284de410c424c66a17d2a826436bbb8",
            "48101653a61341c4a5461f1d430039ce",
            "1efa42470c2545f1b4943ad909d79f9c",
            "d9ef931bfcd54ab29857aadcdf7742f8"
          ]
        },
        "id": "lq2jIWKwREWz",
        "outputId": "a2b9ce9d-8f47-4cf2-d606-bbd4a94613f5"
      },
      "execution_count": null,
      "outputs": [
        {
          "output_type": "display_data",
          "data": {
            "text/plain": [
              "  0%|          | 0/4 [00:00<?, ?it/s]"
            ],
            "application/vnd.jupyter.widget-view+json": {
              "version_major": 2,
              "version_minor": 0,
              "model_id": "acb3baea63044652a77d47d9f8308686"
            }
          },
          "metadata": {}
        }
      ]
    },
    {
      "cell_type": "code",
      "source": [
        "with open('/content/drive/MyDrive/MyfastHealth/projects/AI/user_report_generator/kushagra_mandwal_with_reports.json', 'w') as f:\n",
        "    json.dump(data.model_dump(), f, indent=2)"
      ],
      "metadata": {
        "id": "uvcPUJo-cFgY"
      },
      "execution_count": null,
      "outputs": []
    },
    {
      "cell_type": "code",
      "source": [
        "from langchain_openai import ChatOpenAI\n",
        "from langchain_core.messages import HumanMessage, SystemMessage\n",
        "import os\n",
        "\n",
        "\n",
        "def generate_medical_report_md(report: MedicalReport) -> str:\n",
        "    os.environ[\"OPENAI_API_KEY\"] = userdata.get('OPENAI_API_KEY')\n",
        "    llm = ChatOpenAI(model=\"gpt-4o\")\n",
        "\n",
        "    category_reports_text = \"\"\n",
        "    for cat_report in report.category_reports:\n",
        "        category_reports_text += f\"\\n### {cat_report.category.replace('_', ' ').title()}\\n\\n\"\n",
        "        category_reports_text += cat_report.text\n",
        "        category_reports_text += \"\\n\\n**Sources:**\\n\"\n",
        "        for source in cat_report.sources:\n",
        "            category_reports_text += f\"- {source}\\n\"\n",
        "        category_reports_text += \"\\n---\\n\"\n",
        "\n",
        "    system_message = SystemMessage(content=\"\"\"You are a medical report formatter.\n",
        "    Create a comprehensive markdown medical report with appropriate emojis for better readability.\n",
        "    Use emojis for section headers and important items.\n",
        "    DO NOT change or paraphrase the category reports section - keep it exactly as provided.\n",
        "    Format all data in well-structured markdown with tables where appropriate.\"\"\")\n",
        "\n",
        "    human_message = HumanMessage(content=f\"\"\"Create a complete markdown medical report from this data.\n",
        "\n",
        "    Patient: {report.patient.model_dump_json()}\n",
        "    Labs: {json.dumps([lab.model_dump() for lab in report.labs])}\n",
        "    CVD Summary: {report.cvd_summary.model_dump_json()}\n",
        "    Assessment: {report.assessment.model_dump_json()}\n",
        "    Plan: {json.dumps([p.model_dump() for p in report.plan])}\n",
        "    Red Flags: {json.dumps([r.model_dump() for r in report.red_flags])}\n",
        "    Resources: {json.dumps([r.model_dump() for r in report.resources_table])}\n",
        "\n",
        "    IMPORTANT: For the \"Detailed Health Information Guides\" section, use EXACTLY this text without any changes:\n",
        "    {category_reports_text}\n",
        "\n",
        "    Disclaimer: {report.disclaimer}\n",
        "\n",
        "    Add appropriate emojis throughout the document for better visual appeal.\n",
        "    Keep all category reports text EXACTLY as provided above.\"\"\")\n",
        "\n",
        "    response = llm.invoke([system_message, human_message])\n",
        "    return response.content\n",
        "\n",
        "\n",
        "def save_medical_report_md(report: MedicalReport, output_path: str):\n",
        "    md_content = generate_medical_report_md(report)\n",
        "    with open(output_path, 'w') as f:\n",
        "        f.write(md_content)\n",
        "    return md_content\n",
        "\n"
      ],
      "metadata": {
        "id": "3Z8x8G3seMiU"
      },
      "execution_count": null,
      "outputs": []
    },
    {
      "cell_type": "code",
      "source": [
        "output_path = \"/content/drive/MyDrive/MyfastHealth/projects/AI/user_report_generator/kushagra_mandwal_with_reports.md\"\n",
        "save_medical_report_md(data, output_path)"
      ],
      "metadata": {
        "colab": {
          "base_uri": "https://localhost:8080/",
          "height": 286
        },
        "id": "tTto-mwpjh2z",
        "outputId": "c402b048-fa8f-4b58-e1a7-03a5020ca99a"
      },
      "execution_count": null,
      "outputs": [
        {
          "output_type": "execute_result",
          "data": {
            "text/plain": [
              "'# 🏥 Medical Report\\n\\n---\\n\\n## 🗂️ Patient Details\\n\\n- **Name:** Kushagra Mandwal\\n- **Age:** 33\\n- **Sex:** Male\\n\\n---\\n\\n## 🧪 Laboratory Results\\n\\n### Biochemistry\\n\\n| Test Name          | Value | Unit    | Reference Range | Flag   |\\n|--------------------|-------|---------|-----------------|--------|\\n| Sodium             | 139   | mmol/L  | 135-145         | Normal |\\n| Potassium          | 5.2   | mmol/L  | 3.5-5.5         | Normal |\\n| Chloride           | 103   | mmol/L  | 95-110          | Normal |\\n| Bicarbonate        | 27    | mmol/L  | 20-32           | Normal |\\n| Urea               | 3.0   | mmol/L  | 3.0-8.0         | Normal |\\n| Creatinine         | 81    | umol/L  | 60-110          | Normal |\\n| eGFR               | >90   | ml/min  | >59             | Normal |\\n| Uric Acid          | 0.40  | mmol/L  | 0.20-0.50       | Normal |\\n| Calcium            | 2.51  | mmol/L  | 2.10-2.60       | Normal |\\n| Corrected Calcium  | 2.33  | mmol/L  | 2.10-2.60       | Normal |\\n| Phosphate          | 1.03  | mmol/L  | 0.8-1.5         | Normal |\\n| Total Bilirubin    | 10    | umol/L  | 4-20            | Normal |\\n| ALP                | 74    | U/L     | 35-110          | Normal |\\n| GGT                | 21    | U/L     | 5-50            | Normal |\\n| LD                 | 173   | U/L     | 120-250         | Normal |\\n| AST                | 28    | U/L     | 10-40           | Normal |\\n| ALT                | 35    | U/L     | 5-40            | Normal |\\n| Total Protein      | 74    | g/L     | 68-85           | Normal |\\n| Albumin            | 49    | g/L     | 39-50           | Normal |\\n| Globulin           | 25    | g/L     | 23-39           | Normal |\\n\\n### Lipids\\n\\n| Test Name               | Value | Unit    | Reference Range | Flag  |\\n|-------------------------|-------|---------|-----------------|-------|\\n| Total Cholesterol       | 4.6   | mmol/L  | 3.5-5.5         | Normal|\\n| Triglycerides           | 1.1   | mmol/L  | 0.0-1.5         | Normal|\\n| HDL Cholesterol         | 0.9   | mmol/L  | 1.0-2.2         | Low   |\\n| LDL Cholesterol         | 3.2   | mmol/L  | 0.0-2.5         | High  |\\n| Cholesterol/HDL Ratio   | 5.1   |         | 0.0-4.5         | High  |\\n| Non HDL Cholesterol     | 3.7   | mmol/L  | <3.9            | Normal|\\n\\n### Vitamins\\n\\n| Test Name     | Value | Unit    | Reference Range | Flag  |\\n|---------------|-------|---------|-----------------|-------|\\n| Vitamin D (25OH) | 58   | nmol/L | 50-160          | Normal|\\n| Vitamin B12   | 284   | pmol/L  | 130-855         | Normal|\\n| Active Vitamin B12 | 67 | pmol/L | >35             | Normal|\\n\\n### Thyroid\\n\\n| Test Name | Value | Unit  | Reference Range | Flag   |\\n|-----------|-------|-------|-----------------|--------|\\n| TSH       | 2.1   | mU/L  | 0.40-3.50       | Normal |\\n\\n### Glucose\\n\\n| Test Name        | Value | Unit   | Reference Range | Flag   |\\n|------------------|-------|--------|-----------------|--------|\\n| Glucose Fasting  | 4.4   | mmol/L | 3.6-5.4         | Normal |\\n| HbA1c            | 5.2   | %      | 4.0-6.0         | Normal |\\n\\n### Iron\\n\\n| Test Name | Value | Unit   | Reference Range | Flag   |\\n|-----------|-------|--------|-----------------|--------|\\n| Ferritin  | 59    | ug/L   | 30-400          | Normal |\\n\\n### Hematology\\n\\n| Test Name     | Value | Unit    | Reference Range | Flag  |\\n|---------------|-------|---------|-----------------|-------|\\n| Haemoglobin   | 144   | g/L     | 130-180         | Normal|\\n| RCC           | 5.6   | x10^12/L| 4.5-6.5         | Normal|\\n| Haematocrit   | 0.46  | l/L     | 0.39-0.54       | Normal|\\n| MCV           | 81    | fL      | 80-100          | Normal|\\n| MCH           | 25.6  | pg      | 27.0-32.0       | Low   |\\n| MCHC          | 316   | g/L     | 310-360         | Normal|\\n| RDW           | 13.3  |         | 10.0-15.0       | Normal|\\n| WCC           | 6.1   | x10^9/L | 4.0-11.0        | Normal|\\n| Neutrophils   | 2.39  | x10^9/L | 1.7-7.5         | Normal|\\n| Lymphocytes   | 3.07  | x10^9/L | 1.0-4.0         | Normal|\\n| Monocytes     | 0.47  | x10^9/L | 0.0-1.0         | Normal|\\n| Eosinophils   | 0.15  | x10^9/L | 0.0-0.5         | Normal|\\n| Basophils     | 0.04  | x10^9/L | 0.0-0.3         | Normal|\\n| Platelets     | 231   | x10^9/L | 150-450         | Normal|\\n\\n---\\n\\n## ❤️ Cardiovascular Disease (CVD) Summary\\n\\n- **5-Year Risk Percent:** 7.5%\\n- **Risk Level:** Intermediate\\n- **Interpretation:** The patient has an intermediate risk of having a heart attack or stroke in the next 5 years, estimated between 5% to 10%. This means 5 to 10 out of 100 people like the patient will have a cardiovascular event if no action is taken.\\n\\n### Modifiable Risk Factors\\n\\n- Low HDL cholesterol\\n- High LDL cholesterol\\n- High cholesterol/HDL ratio\\n- Poor dietary habits\\n- Low physical activity\\n- Psychosocial stress\\n- Overweight (BMI 26.5)\\n\\n### Risk Reduction Advice\\n\\n- Follow a healthy eating pattern\\n- Incorporate regular physical activity into your routine\\n- Achieve and maintain a healthy weight\\n- Limit your intake of alcohol\\n- Consider blood pressure-lowering and/or lipid-modifying medicines if recommended by your doctor\\n\\n---\\n\\n## 🧠 Assessment\\n\\n- **Summary:** 33-year-old male with intermediate cardiovascular risk. No family history of premature cardiovascular disease, diabetes, or stroke. Lifestyle includes no smoking or alcohol, vegetarian but high-fat diet, and physical activity below recommendations. Reports fatigue and stress related to work for 6 months. BMI indicates overweight. Blood pressure and heart rate are within normal limits. Laboratory results show low HDL cholesterol, high LDL cholesterol, and elevated cholesterol/HDL ratio, which are independent risk factors for cardiovascular disease. Other labs including glucose, HbA1c, vitamin D, thyroid function, and iron studies are within normal limits. Mental health concerns include anxiety and stress.\\n- **Family History:** No family history of premature cardiovascular disease, diabetes, or stroke.\\n- **Lifestyle:**\\n  - Smoking: Never smoked\\n  - Alcohol: Does not consume alcohol\\n  - Diet: Vegetarian diet high in fat\\n  - Physical Activity: Below recommended levels\\n\\n---\\n\\n## 📋 Plan\\n\\n1. 📈 **Increase Physical Activity**: Increase physical activity to 2.5 to 5 hours of moderate intensity or 1.25 to 2.5 hours of vigorous intensity weekly, or an equivalent combination. [Learn more](https://www.racgp.org.au/clinical-resources/clinical-guidelines/handi/handi-interventions/nutrition/ten-top-tips-for-weight-control).\\n\\n2. ⚖️ **Weight Management**: Discuss weight management goals including BMI and waist targets. [Get tips](https://www.betterhealth.vic.gov.au/health/healthyliving/weight-loss-a-healthy-approach).\\n\\n3. 🧘 **Mental Health**: Offer mental health counseling and provide crisis support numbers; patient to book mental health consult with GP. [Find support](https://mentalhealth.org.au).\\n\\n---\\n\\n## 🚨 Red Flags\\n\\n- **Fatigue:** Patient reports fatigue for 6 months related to work stress or burnout.\\n- **Stress/Burnout:** Patient reports ongoing stress or burnout for 6 months due to work.\\n\\n---\\n\\n## 📚 Detailed Health Information Guides\\n\\n### Weight Management\\n\\nAchieving a healthy weight is essential for reducing the risk of chronic conditions like coronary heart disease and type 2 diabetes. Many people attempt quick fixes or fad diets, which often fail to deliver sustainable results. Instead, a focus on slow, sustainable change is recommended. [Better Health Channel suggests](https://www.betterhealth.vic.gov.au/health/healthyliving/weight-loss-a-healthy-approach) aiming for a gradual loss of ½ to 1 kg per week. By balancing \\'energy in\\' (food and drink consumption) with \\'energy out\\' (exercise and daily activity), individuals can steadily reach their goals.\\n\\nSetting realistic and achievable goals is key; using SMART goals (Specific, Measurable, Achievable, Realistic, Time-bound) can guide your efforts effectively. Nutrition plays a crucial role, and it\\'s beneficial to follow principles from the [Australian Guide to Healthy Eating](https://www.betterhealth.vic.gov.au/health/healthyliving/weight-loss-a-healthy-approach), focusing on consuming more vegetables, fruits, and whole foods, while reducing intake of processed foods high in fats, sugars, and salts.\\n\\nPhysical activity, even moderate, has significant impacts. Activities like walking, gardening, or taking the stairs contribute to increasing energy expenditure. Starting with 30 minutes of physical activity a day can be a tremendous first step.\\n\\nMotivation can wane, so it’s important to celebrate non-scale victories like decreased waist circumference or improved energy levels, as [Healthdirect Australia](https://www.healthdirect.gov.au/weight-loss-and-dieting) discusses. If challenges arise, or if you have a complex medical history, seeking the guidance of health professionals like dietitians or GPs is recommended.\\n\\nAdditional, straightforward interventions such as the [RACGP\\'s Ten Top Tips](https://www.racgp.org.au/clinical-resources/clinical-guidelines/handi/handi-interventions/nutrition/ten-top-tips-for-weight-control) can help instill healthy habits. These involve maintaining consistent meal routines, opting for reduced-fat foods, and incorporating regular walking and portion control into daily life.\\n\\nRemember, each small, healthy change brings you closer to your goals. So, go at your own pace, stay mindful, and involve professional help when needed. You deserve to reach and maintain a weight that feels right for you and supports your health and happiness.\\n\\n**Sources:**\\n- [Better Health Channel](https://www.betterhealth.vic.gov.au/health/healthyliving/weight-loss-a-healthy-approach)\\n- [RACGP](https://www.racgp.org.au/clinical-resources/clinical-guidelines/handi/handi-interventions/nutrition/ten-top-tips-for-weight-control)\\n- [Healthdirect Australia](https://www.healthdirect.gov.au/weight-loss-and-dieting)\\n\\n---\\n\\n### Alcohol\\n\\nHello! Let\\'s talk about alcohol and keeping safe practices in mind. Alcohol is indeed the most widely used drug in Australia, but it carries certain health risks. The [NHMRC guidelines](https://www.nhmrc.gov.au/health-advice/alcohol) provide useful tips to help Australians minimize these risks.\\n\\nFor healthy adults over 18, it’s advised not to exceed 10 standard drinks a week, and no more than 4 on any one day. Smaller quantities make it safer, so always remember: the less, the better! Importantly for under-18s, it is best to avoid alcohol altogether to avert health and injury risks. If you\\'re pregnant, planning to be, or breastfeeding, the safest choice is no alcohol, protecting your child\\'s health right from the start.\\n\\nEver wondered what a \"standard drink\" is? In Australia, it equates to 10 grams of pure alcohol, which can be in a glass of beer, wine, or spirits. Examples include 285 mL of full-strength beer or 100 mL of wine.\\n\\nLiving an alcohol-conscious lifestyle means embracing moderation. Avoid aiming for “safe drinking” levels, as risk-free levels don\\'t exist. Drinking less altogether and steering clear of binge drinking can significantly reduce potential harms.\\n\\nIf sticking to these limits or understanding your drinking pattern feels challenging, don’t hesitate to seek help. Whether you have conditions like liver or heart disease, mental health concerns, or are pregnant, reaching out to a GP or counselor might be beneficial.\\n\\nAnd for a guiding hand, the [FARE Alcohol Support Services](https://fare.org.au/resources/alcohol-support-services/) page lists helpful contact points across Australia. From consulting your GP to utilizing national hotlines and support networks like Alcoholics Anonymous, there are resources available to aid you or your loved ones manage alcohol use effectively. It\\'s important to consult a health expert if you\\'re reducing alcohol consumption, especially if drinking heavily, to avoid withdrawal risks.\\n\\nIn moments of need, remember there’s support through services like Lifeline, Beyond Blue, and even phone counseling services for immediate aid. These services aim to ensure nobody faces their challenges alone and have access to the necessary support for a safe and healthy lifestyle journey.\\n\\nRemember, this information is here to guide but cannot replace personalized medical advice. Should you have any further questions or concerns, engaging a healthcare professional will ensure you receive the right advice tailored to your situation.\\n\\n**Sources:**\\n- [NHMRC](https://www.nhmrc.gov.au/health-advice/alcohol)\\n- [FARE Alcohol Support Services](https://fare.org.au/resources/alcohol-support-services/)\\n\\n---\\n\\n### Healthy Eating\\n\\nThis friendly guide will brighten your path to healthy eating! The [Australian Guide to Healthy Eating](https://www.eatforhealth.gov.au/guidelines/australian-guide-healthy-eating) is a fantastic visual tool that helps you enjoy a balanced diet with the five essential food groups: veggies, fruits, grains, proteins, and dairy. Eat a variety within each group to ensure you get all the nutrients needed to maintain your body and vitality.\\n\\nThe guide recommends adults enjoy 5 servings of vegetables and at least 2 servings of fruit daily. It\\'s wise to make grains mostly wholegrain and keep protein and dairy portions moderate. Of course, limit those \\'discretionary choices\\'—think occasional treats like sweets and snacks!\\n\\nFor folks looking to refine their eating habits easily, the [Healthy Eating Quiz](https://healthyeatingquiz.com.au/) offers a quick evaluation that provides insights into your diet quality, specifically in line with Australian Dietary Guidelines. Though it’s intended for general feedback, it still offers a clear picture of your dietary habits.\\n\\nA heart-healthy diet supports overall wellness, as the [Heart Foundation](https://www.heartfoundation.org.au/healthy-living/healthy-eating/heart-healthy-eating-pattern) shares. Include loads of colorful vegetables, whole grains, and plant-based proteins, and enjoy healthy fats and oils. Remember to enhance flavors with herbs and spices instead of salt.\\n\\nFor our Aboriginal and Torres Strait Islander friends, there’s a culturally sensitive [Guide to Healthy Eating](https://www.eatforhealth.gov.au/sites/default/files/2022-09/FINAL_ATSI_Guide_to_Healthy_Eating_A4_size_double_sided_POSTER_D15_1106141.PDF) ensuring your dietary habits remain harmonious with traditional practices. This guide encourages drinking water and balancing food choices from an array of nutrient-rich groups.\\n\\nLet\\'s not forget about quitting smoking, where the [Aboriginal Quitline](https://www.quit.org.au/articles/aboriginal-quitline) is an invaluable resource providing personal, culturally aware support to those ready to embark on this life-enhancing journey.\\n\\nFinally, the [Tackling Indigenous Smoking](https://tacklingsmoking.org.au/) initiative is making strides towards reducing smoking rates in Aboriginal and Torres Strait Islander communities through comprehensive, culturally appropriate support.\\n\\nChoose wellness, stay balanced, and remember: small changes lead to meaningful progress in maintaining a healthy lifestyle. Good luck on your journey to vibrant, wholesome living!\\n\\n**Sources:**\\n- [Australian Guide to Healthy Eating](https://www.eatforhealth.gov.au/guidelines/australian-guide-healthy-eating)\\n- [Healthy Eating Quiz](https://healthyeatingquiz.com.au/)\\n- [Heart Foundation](https://www.heartfoundation.org.au/healthy-living/healthy-eating/heart-healthy-eating-pattern)\\n- [Aboriginal Quitline](https://www.quit.org.au/articles/aboriginal-quitline)\\n- [Tackling Indigenous Smoking](https://tacklingsmoking.org.au/)\\n- [Guide to Healthy Eating for Aboriginal and Torres Strait Islanders](https://www.eatforhealth.gov.au/sites/default/files/2022-09/FINAL_ATSI_Guide_to_Healthy_Eating_A4_size_double_sided_POSTER_D15_1106141.PDF)\\n\\n---\\n\\n### Blood Pressure\\n\\nHello there! Understanding blood pressure is crucial for maintaining heart health, and I\\'m here to help guide you through some key insights from the experts. Blood pressure is how hard your heart has to work to push blood through your arteries. Many people might not even know when their blood pressure is high — it\\'s often a \\'silent\\' condition, but it has a big impact on health. You can learn more about this from the [Heart Foundation](https://www.heartfoundation.org.au/your-heart/blood-pressure-and-your-heart).\\n\\nBlood pressure is usually noted as two numbers: systolic (when your heart beats) over diastolic (when your heart rests between beats). A normal reading is usually below 120/80 mmHg. Anything higher could suggest the need for lifestyle changes or medical advice. Identifying your \\'normal\\' can help you prevent conditions like heart disease or stroke.\\n\\nSpeaking of stroke, high blood pressure can be a significant risk factor. According to the [Stroke Foundation](https://strokefoundation.org.au/media/ixgpi3ga/sf891_high-bp-fact-sheet_0422_v5-final.pdf), uncontrolled blood pressure can damage your blood vessels, leading to a higher risk of a clot or rupture that may cause a stroke.\\n\\nThere are a number of factors that can contribute to high blood pressure, including family history, diet (especially salt intake), weight, and physical activity. Long-term high blood pressure can lead to heart attacks or strokes as it causes damage to your blood vessels over time.\\n\\nMeasuring your blood pressure accurately at home can be very helpful. Experts recommend using a validated home monitor and taking measurements consistently over several days, preferably at the same times while in a relaxed state. This can help your doctor get a clearer picture to assess your health.\\n\\nTo manage or lower high blood pressure, lifestyle changes can be a powerful tool. A diet rich in fruits, vegetables, and whole grains, alongside regular physical activity, are strongly recommended. Reducing salt, limiting alcohol, and maintaining a healthy weight contribute significantly to lowering your pressure.\\n\\nMedication might be prescribed if lifestyle adjustments alone don’t help. Common medications include ACE inhibitors, calcium channel blockers, and diuretics, but they should always be taken under the guidance of your doctor.\\n\\nFinally, if you ever get a very high reading (like 180/100 mmHg or more), it’s important to seek medical advice promptly. High blood pressure could be an indicator of other health risks, especially if you have other conditions like diabetes or heart disease. Remember, frequent check-ups and being informed can play a big role in maintaining a healthy heart and blood pressure.\\n\\n**Sources:**\\n- [Heart Foundation](https://www.heartfoundation.org.au/your-heart/blood-pressure-and-your-heart)\\n- [Stroke Foundation](https://strokefoundation.org.au/media/ixgpi3ga/sf891_high-bp-fact-sheet_0422_v5-final.pdf)\\n\\n---\\n\\n## 🔗 Resources\\n\\n- **Healthy Eating**\\n  - [Australian Guide to Healthy Eating](https://www.eatforhealth.gov.au/guidelines/australian-guide-healthy-eating)\\n  - [Healthy Eating Quiz](https://healthyeatingquiz.com.au/)\\n  - [Heart Healthy Eating Pattern](https://www.heartfoundation.org.au/healthy-living/healthy-eating/heart-healthy-eating-pattern)\\n\\n- **Weight Management**\\n  - [Weight Loss – A Healthy Approach](https://www.betterhealth.vic.gov.au/health/healthyliving/weight-loss-a-healthy-approach)\\n  - [Ten Top Tips for Weight Control](https://www.racgp.org.au/clinical-resources/clinical-guidelines/handi/handi-interventions/nutrition/ten-top-tips-for-weight-control)\\n  - [Weight loss and dieting](https://www.healthdirect.gov.au/weight-loss-and-dieting)\\n  - [What is a healthy body weight?](https://www.heartfoundation.org.au/your-heart/healthy-body-weight)\\n\\n- **Alcohol**\\n  - [Australian guidelines to reduce health risks from drinking alcohol](https://www.nhmrc.gov.au/health-advice/alcohol)\\n  - [FARE Alcohol Support Services](https://fare.org.au/resources/alcohol-support-services/)\\n\\n- **Blood Pressure**\\n  - [Blood Pressure and Your Heart](https://www.heartfoundation.org.au/your-heart/blood-pressure-and-your-heart)\\n  - [High Blood Pressure — Stroke Foundation Fact Sheet](https://strokefoundation.org.au/media/ixgpi3ga/sf891_high-bp-fact-sheet_0422_v5-final.pdf)\\n\\n---\\n\\n## 📜 Disclaimer\\n\\nThis report is based on the provided clinical data and risk calculator outputs. It is intended for informational purposes and should not replace professional medical advice. Please consult your healthcare provider for personalized recommendations.'"
            ],
            "application/vnd.google.colaboratory.intrinsic+json": {
              "type": "string"
            }
          },
          "metadata": {},
          "execution_count": 35
        }
      ]
    }
  ]
}